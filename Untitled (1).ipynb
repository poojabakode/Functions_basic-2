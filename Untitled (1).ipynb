{
 "cells": [
  {
   "cell_type": "code",
   "execution_count": 1,
   "id": "1ffb5f7d-0863-4b70-bfc3-99380db35414",
   "metadata": {},
   "outputs": [],
   "source": [
    "#write a function which will try to find out the length of a string without using an inbuilt len function."
   ]
  },
  {
   "cell_type": "code",
   "execution_count": 2,
   "id": "5fa02b3b-0997-4c9e-aeb3-23435565d548",
   "metadata": {},
   "outputs": [],
   "source": [
    "def test(s):\n",
    "    \"\"\"A fucntion to count the length of string\"\"\"\n",
    "    count = 0\n",
    "    for i in s:\n",
    "        if type(i) == str:\n",
    "            count = count +1 \n",
    "    return count"
   ]
  },
  {
   "cell_type": "code",
   "execution_count": 3,
   "id": "9dd6769f-5740-4743-b132-3c0b46e4e271",
   "metadata": {},
   "outputs": [
    {
     "data": {
      "text/plain": [
       "5"
      ]
     },
     "execution_count": 3,
     "metadata": {},
     "output_type": "execute_result"
    }
   ],
   "source": [
    "test(\"pooja\")"
   ]
  },
  {
   "cell_type": "code",
   "execution_count": 4,
   "id": "7f78b87f-c619-4485-96c4-7493558800bc",
   "metadata": {},
   "outputs": [],
   "source": [
    "#write a fucntion which will be able to print an index of list elements witohut using an index function.\n",
    "l = [1,2,3,4,\"pooja\",\"ineuron\"]"
   ]
  },
  {
   "cell_type": "code",
   "execution_count": 12,
   "id": "bd70c460-5681-4209-ace8-ebb3671329f4",
   "metadata": {},
   "outputs": [],
   "source": [
    "def test1(li):\n",
    "    for i in range(0,len(li)):\n",
    "        print(li[i], \":\", i) "
   ]
  },
  {
   "cell_type": "code",
   "execution_count": 15,
   "id": "494250c4-4970-4bd2-aff1-a0924ea87f6f",
   "metadata": {},
   "outputs": [
    {
     "name": "stdout",
     "output_type": "stream",
     "text": [
      "1 : 0\n",
      "2 : 1\n",
      "3 : 2\n",
      "4 : 3\n",
      "pooja : 4\n",
      "ineuron : 5\n"
     ]
    }
   ],
   "source": [
    "test1(l)"
   ]
  },
  {
   "cell_type": "code",
   "execution_count": 16,
   "id": "f1960dd1-7935-4f76-94c4-2d541a7e4060",
   "metadata": {},
   "outputs": [],
   "source": [
    "#write a fucntion which will be able to print an ip address of your system."
   ]
  },
  {
   "cell_type": "code",
   "execution_count": 17,
   "id": "4965390f-7169-49da-8152-23f257d738dd",
   "metadata": {},
   "outputs": [
    {
     "data": {
      "text/plain": [
       "'172.18.0.3'"
      ]
     },
     "execution_count": 17,
     "metadata": {},
     "output_type": "execute_result"
    }
   ],
   "source": [
    "import socket\n",
    "def test2():\n",
    "\tip= socket.gethostbyname(socket.gethostname())\n",
    "    return ip"
   ]
  },
  {
   "cell_type": "code",
   "execution_count": 18,
   "id": "c2211398-e94c-4217-b233-a99b34b7212b",
   "metadata": {},
   "outputs": [],
   "source": [
    "#write a function which will shutdown your system(it is going to work in local machine, it won't work i b)\n",
    "#import os\n",
    "#os.system(\"shutdown /s /t 4\")\n",
    "\n",
    "# /s means shutdown\n",
    "# /r means restart\n",
    "# /t 1 means timer"
   ]
  },
  {
   "cell_type": "code",
   "execution_count": 19,
   "id": "7c9f4463-c95f-4c1b-8acc-93d5cf0d304a",
   "metadata": {},
   "outputs": [],
   "source": [
    "#write a function which will take input as a list with any kind of numeric value and give an out as a multiplication of all the \n",
    "#numeric data l =[3.5,6.56,4.5,\"sudh\",\"ineuron\",'fsda bootcamp 2.0\"]"
   ]
  },
  {
   "cell_type": "code",
   "execution_count": 22,
   "id": "20fb270f-20d4-4db6-9211-26a7cb612a75",
   "metadata": {},
   "outputs": [],
   "source": [
    "l =[3.5,6.56,4,5,\"sudh\",\"ineuron\",\"fsda bootcamp 2.0\"]\n",
    "def test3(l):\n",
    "    mul = 1\n",
    "    for i in l:\n",
    "        if type(i)== int or type(i)== float :\n",
    "    \t    mul = mul*i\n",
    "    return mul\n"
   ]
  },
  {
   "cell_type": "code",
   "execution_count": 23,
   "id": "4167289f-f137-46a5-ab1c-b0998b26eff6",
   "metadata": {},
   "outputs": [
    {
     "data": {
      "text/plain": [
       "459.19999999999993"
      ]
     },
     "execution_count": 23,
     "metadata": {},
     "output_type": "execute_result"
    }
   ],
   "source": [
    "test3(l)"
   ]
  },
  {
   "cell_type": "code",
   "execution_count": null,
   "id": "021517e4-bd34-45f0-b6f9-9ae059d42b75",
   "metadata": {},
   "outputs": [],
   "source": [
    "."
   ]
  }
 ],
 "metadata": {
  "kernelspec": {
   "display_name": "Python 3 (ipykernel)",
   "language": "python",
   "name": "python3"
  },
  "language_info": {
   "codemirror_mode": {
    "name": "ipython",
    "version": 3
   },
   "file_extension": ".py",
   "mimetype": "text/x-python",
   "name": "python",
   "nbconvert_exporter": "python",
   "pygments_lexer": "ipython3",
   "version": "3.10.6"
  }
 },
 "nbformat": 4,
 "nbformat_minor": 5
}
